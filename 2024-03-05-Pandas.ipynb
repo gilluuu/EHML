{
 "cells": [
  {
   "cell_type": "code",
   "execution_count": 8,
   "id": "af4338fc-adaf-4f60-a413-a43dd8ef477f",
   "metadata": {},
   "outputs": [],
   "source": [
    "import pandas as pd\n",
    "import numpy as np"
   ]
  },
  {
   "cell_type": "code",
   "execution_count": 18,
   "id": "234c2e40-a3c2-4364-a628-9ba4add89fbf",
   "metadata": {},
   "outputs": [],
   "source": [
    "data = 'datasets/running.csv'"
   ]
  },
  {
   "cell_type": "code",
   "execution_count": 19,
   "id": "f3f720fe-2f2c-4022-896a-c0bb52900699",
   "metadata": {},
   "outputs": [],
   "source": [
    "data_running = pd.read_csv(data)"
   ]
  },
  {
   "cell_type": "code",
   "execution_count": 20,
   "id": "9405817f-bc9e-4e53-853b-051e0b6db67d",
   "metadata": {},
   "outputs": [
    {
     "data": {
      "text/plain": [
       "pandas.core.frame.DataFrame"
      ]
     },
     "execution_count": 20,
     "metadata": {},
     "output_type": "execute_result"
    }
   ],
   "source": [
    "type(data_running)"
   ]
  },
  {
   "cell_type": "code",
   "execution_count": 21,
   "id": "f452220a-eb95-4fba-b9ca-9bbf88a1d68e",
   "metadata": {},
   "outputs": [
    {
     "data": {
      "text/plain": [
       "(1669, 5)"
      ]
     },
     "execution_count": 21,
     "metadata": {},
     "output_type": "execute_result"
    }
   ],
   "source": [
    "data_running.shape"
   ]
  },
  {
   "cell_type": "code",
   "execution_count": 23,
   "id": "8c5bddbe-34e8-4cb7-996e-81d3cc010b71",
   "metadata": {},
   "outputs": [
    {
     "data": {
      "text/html": [
       "<div>\n",
       "<style scoped>\n",
       "    .dataframe tbody tr th:only-of-type {\n",
       "        vertical-align: middle;\n",
       "    }\n",
       "\n",
       "    .dataframe tbody tr th {\n",
       "        vertical-align: top;\n",
       "    }\n",
       "\n",
       "    .dataframe thead th {\n",
       "        text-align: right;\n",
       "    }\n",
       "</style>\n",
       "<table border=\"1\" class=\"dataframe\">\n",
       "  <thead>\n",
       "    <tr style=\"text-align: right;\">\n",
       "      <th></th>\n",
       "      <th>Time (s)</th>\n",
       "      <th>Linear Acceleration x (m/s^2)</th>\n",
       "      <th>Linear Acceleration y (m/s^2)</th>\n",
       "      <th>Linear Acceleration z (m/s^2)</th>\n",
       "      <th>Absolute acceleration (m/s^2)</th>\n",
       "    </tr>\n",
       "  </thead>\n",
       "  <tbody>\n",
       "    <tr>\n",
       "      <th>0</th>\n",
       "      <td>0.003109</td>\n",
       "      <td>-0.324983</td>\n",
       "      <td>0.969946</td>\n",
       "      <td>-0.730077</td>\n",
       "      <td>1.256750</td>\n",
       "    </tr>\n",
       "    <tr>\n",
       "      <th>1</th>\n",
       "      <td>0.013060</td>\n",
       "      <td>-0.249482</td>\n",
       "      <td>1.201871</td>\n",
       "      <td>-0.092081</td>\n",
       "      <td>1.230940</td>\n",
       "    </tr>\n",
       "    <tr>\n",
       "      <th>2</th>\n",
       "      <td>0.023011</td>\n",
       "      <td>-0.473437</td>\n",
       "      <td>1.047375</td>\n",
       "      <td>-0.016284</td>\n",
       "      <td>1.149522</td>\n",
       "    </tr>\n",
       "  </tbody>\n",
       "</table>\n",
       "</div>"
      ],
      "text/plain": [
       "   Time (s)  Linear Acceleration x (m/s^2)  Linear Acceleration y (m/s^2)  \\\n",
       "0  0.003109                      -0.324983                       0.969946   \n",
       "1  0.013060                      -0.249482                       1.201871   \n",
       "2  0.023011                      -0.473437                       1.047375   \n",
       "\n",
       "   Linear Acceleration z (m/s^2)  Absolute acceleration (m/s^2)  \n",
       "0                      -0.730077                       1.256750  \n",
       "1                      -0.092081                       1.230940  \n",
       "2                      -0.016284                       1.149522  "
      ]
     },
     "execution_count": 23,
     "metadata": {},
     "output_type": "execute_result"
    }
   ],
   "source": [
    "data_running.head(3)"
   ]
  },
  {
   "cell_type": "code",
   "execution_count": 24,
   "id": "11c97774-c976-45cf-b836-ab31fc7231cc",
   "metadata": {},
   "outputs": [
    {
     "data": {
      "text/plain": [
       "RangeIndex(start=0, stop=1669, step=1)"
      ]
     },
     "execution_count": 24,
     "metadata": {},
     "output_type": "execute_result"
    }
   ],
   "source": [
    "data_running.index"
   ]
  },
  {
   "cell_type": "code",
   "execution_count": 25,
   "id": "9c9d8084-075c-4769-98c7-cd1338aeb7ea",
   "metadata": {},
   "outputs": [
    {
     "data": {
      "text/html": [
       "<div>\n",
       "<style scoped>\n",
       "    .dataframe tbody tr th:only-of-type {\n",
       "        vertical-align: middle;\n",
       "    }\n",
       "\n",
       "    .dataframe tbody tr th {\n",
       "        vertical-align: top;\n",
       "    }\n",
       "\n",
       "    .dataframe thead th {\n",
       "        text-align: right;\n",
       "    }\n",
       "</style>\n",
       "<table border=\"1\" class=\"dataframe\">\n",
       "  <thead>\n",
       "    <tr style=\"text-align: right;\">\n",
       "      <th></th>\n",
       "      <th>Time (s)</th>\n",
       "      <th>Linear Acceleration x (m/s^2)</th>\n",
       "      <th>Linear Acceleration y (m/s^2)</th>\n",
       "      <th>Linear Acceleration z (m/s^2)</th>\n",
       "      <th>Absolute acceleration (m/s^2)</th>\n",
       "    </tr>\n",
       "  </thead>\n",
       "  <tbody>\n",
       "    <tr>\n",
       "      <th>0</th>\n",
       "      <td>0.003109</td>\n",
       "      <td>-0.324983</td>\n",
       "      <td>0.969946</td>\n",
       "      <td>-0.730077</td>\n",
       "      <td>1.256750</td>\n",
       "    </tr>\n",
       "    <tr>\n",
       "      <th>1</th>\n",
       "      <td>0.013060</td>\n",
       "      <td>-0.249482</td>\n",
       "      <td>1.201871</td>\n",
       "      <td>-0.092081</td>\n",
       "      <td>1.230940</td>\n",
       "    </tr>\n",
       "    <tr>\n",
       "      <th>2</th>\n",
       "      <td>0.023011</td>\n",
       "      <td>-0.473437</td>\n",
       "      <td>1.047375</td>\n",
       "      <td>-0.016284</td>\n",
       "      <td>1.149522</td>\n",
       "    </tr>\n",
       "    <tr>\n",
       "      <th>3</th>\n",
       "      <td>0.032961</td>\n",
       "      <td>-0.559688</td>\n",
       "      <td>1.009391</td>\n",
       "      <td>-0.671176</td>\n",
       "      <td>1.335139</td>\n",
       "    </tr>\n",
       "    <tr>\n",
       "      <th>4</th>\n",
       "      <td>0.042913</td>\n",
       "      <td>-0.582195</td>\n",
       "      <td>1.142839</td>\n",
       "      <td>-0.816608</td>\n",
       "      <td>1.520487</td>\n",
       "    </tr>\n",
       "    <tr>\n",
       "      <th>...</th>\n",
       "      <td>...</td>\n",
       "      <td>...</td>\n",
       "      <td>...</td>\n",
       "      <td>...</td>\n",
       "      <td>...</td>\n",
       "    </tr>\n",
       "    <tr>\n",
       "      <th>1664</th>\n",
       "      <td>16.561781</td>\n",
       "      <td>1.248954</td>\n",
       "      <td>-1.932569</td>\n",
       "      <td>-0.004089</td>\n",
       "      <td>2.301027</td>\n",
       "    </tr>\n",
       "    <tr>\n",
       "      <th>1665</th>\n",
       "      <td>16.571733</td>\n",
       "      <td>1.178915</td>\n",
       "      <td>-2.002361</td>\n",
       "      <td>0.030478</td>\n",
       "      <td>2.323837</td>\n",
       "    </tr>\n",
       "    <tr>\n",
       "      <th>1666</th>\n",
       "      <td>16.581684</td>\n",
       "      <td>0.806154</td>\n",
       "      <td>-2.109095</td>\n",
       "      <td>0.005157</td>\n",
       "      <td>2.257918</td>\n",
       "    </tr>\n",
       "    <tr>\n",
       "      <th>1667</th>\n",
       "      <td>16.591635</td>\n",
       "      <td>0.579404</td>\n",
       "      <td>-2.096657</td>\n",
       "      <td>-0.091503</td>\n",
       "      <td>2.177166</td>\n",
       "    </tr>\n",
       "    <tr>\n",
       "      <th>1668</th>\n",
       "      <td>16.601586</td>\n",
       "      <td>0.498769</td>\n",
       "      <td>-2.080130</td>\n",
       "      <td>-0.639719</td>\n",
       "      <td>2.232701</td>\n",
       "    </tr>\n",
       "  </tbody>\n",
       "</table>\n",
       "<p>1669 rows × 5 columns</p>\n",
       "</div>"
      ],
      "text/plain": [
       "       Time (s)  Linear Acceleration x (m/s^2)  Linear Acceleration y (m/s^2)  \\\n",
       "0      0.003109                      -0.324983                       0.969946   \n",
       "1      0.013060                      -0.249482                       1.201871   \n",
       "2      0.023011                      -0.473437                       1.047375   \n",
       "3      0.032961                      -0.559688                       1.009391   \n",
       "4      0.042913                      -0.582195                       1.142839   \n",
       "...         ...                            ...                            ...   \n",
       "1664  16.561781                       1.248954                      -1.932569   \n",
       "1665  16.571733                       1.178915                      -2.002361   \n",
       "1666  16.581684                       0.806154                      -2.109095   \n",
       "1667  16.591635                       0.579404                      -2.096657   \n",
       "1668  16.601586                       0.498769                      -2.080130   \n",
       "\n",
       "      Linear Acceleration z (m/s^2)  Absolute acceleration (m/s^2)  \n",
       "0                         -0.730077                       1.256750  \n",
       "1                         -0.092081                       1.230940  \n",
       "2                         -0.016284                       1.149522  \n",
       "3                         -0.671176                       1.335139  \n",
       "4                         -0.816608                       1.520487  \n",
       "...                             ...                            ...  \n",
       "1664                      -0.004089                       2.301027  \n",
       "1665                       0.030478                       2.323837  \n",
       "1666                       0.005157                       2.257918  \n",
       "1667                      -0.091503                       2.177166  \n",
       "1668                      -0.639719                       2.232701  \n",
       "\n",
       "[1669 rows x 5 columns]"
      ]
     },
     "execution_count": 25,
     "metadata": {},
     "output_type": "execute_result"
    }
   ],
   "source": [
    "data_running"
   ]
  },
  {
   "cell_type": "code",
   "execution_count": 32,
   "id": "97427f24-f187-4be1-b5e9-07d5353b5dd1",
   "metadata": {},
   "outputs": [],
   "source": [
    "# Rename Columns, permanente Änderung mit inplace\n",
    "data_running.rename(columns={'Time (s)':'time',\n",
    "                             'Linear Acceleration x (m/s^2)':'acc_x',\n",
    "                             'Linear Acceleration y (m/s^2)':'acc_y',\n",
    "                            'Linear Acceleration z (m/s^2)':'acc_z',\n",
    "                            'Absolute acceleration (m/s^2)':'abs_acc'\n",
    "                            }, inplace=True)"
   ]
  },
  {
   "cell_type": "code",
   "execution_count": 33,
   "id": "7a8e7189-3698-479f-a878-f53d9d3d7e0c",
   "metadata": {},
   "outputs": [
    {
     "data": {
      "text/html": [
       "<div>\n",
       "<style scoped>\n",
       "    .dataframe tbody tr th:only-of-type {\n",
       "        vertical-align: middle;\n",
       "    }\n",
       "\n",
       "    .dataframe tbody tr th {\n",
       "        vertical-align: top;\n",
       "    }\n",
       "\n",
       "    .dataframe thead th {\n",
       "        text-align: right;\n",
       "    }\n",
       "</style>\n",
       "<table border=\"1\" class=\"dataframe\">\n",
       "  <thead>\n",
       "    <tr style=\"text-align: right;\">\n",
       "      <th></th>\n",
       "      <th>time</th>\n",
       "      <th>acc_x</th>\n",
       "      <th>acc_y</th>\n",
       "      <th>acc_z</th>\n",
       "      <th>abs_acc</th>\n",
       "    </tr>\n",
       "  </thead>\n",
       "  <tbody>\n",
       "    <tr>\n",
       "      <th>0</th>\n",
       "      <td>0.003109</td>\n",
       "      <td>-0.324983</td>\n",
       "      <td>0.969946</td>\n",
       "      <td>-0.730077</td>\n",
       "      <td>1.256750</td>\n",
       "    </tr>\n",
       "    <tr>\n",
       "      <th>1</th>\n",
       "      <td>0.013060</td>\n",
       "      <td>-0.249482</td>\n",
       "      <td>1.201871</td>\n",
       "      <td>-0.092081</td>\n",
       "      <td>1.230940</td>\n",
       "    </tr>\n",
       "    <tr>\n",
       "      <th>2</th>\n",
       "      <td>0.023011</td>\n",
       "      <td>-0.473437</td>\n",
       "      <td>1.047375</td>\n",
       "      <td>-0.016284</td>\n",
       "      <td>1.149522</td>\n",
       "    </tr>\n",
       "    <tr>\n",
       "      <th>3</th>\n",
       "      <td>0.032961</td>\n",
       "      <td>-0.559688</td>\n",
       "      <td>1.009391</td>\n",
       "      <td>-0.671176</td>\n",
       "      <td>1.335139</td>\n",
       "    </tr>\n",
       "    <tr>\n",
       "      <th>4</th>\n",
       "      <td>0.042913</td>\n",
       "      <td>-0.582195</td>\n",
       "      <td>1.142839</td>\n",
       "      <td>-0.816608</td>\n",
       "      <td>1.520487</td>\n",
       "    </tr>\n",
       "    <tr>\n",
       "      <th>...</th>\n",
       "      <td>...</td>\n",
       "      <td>...</td>\n",
       "      <td>...</td>\n",
       "      <td>...</td>\n",
       "      <td>...</td>\n",
       "    </tr>\n",
       "    <tr>\n",
       "      <th>1664</th>\n",
       "      <td>16.561781</td>\n",
       "      <td>1.248954</td>\n",
       "      <td>-1.932569</td>\n",
       "      <td>-0.004089</td>\n",
       "      <td>2.301027</td>\n",
       "    </tr>\n",
       "    <tr>\n",
       "      <th>1665</th>\n",
       "      <td>16.571733</td>\n",
       "      <td>1.178915</td>\n",
       "      <td>-2.002361</td>\n",
       "      <td>0.030478</td>\n",
       "      <td>2.323837</td>\n",
       "    </tr>\n",
       "    <tr>\n",
       "      <th>1666</th>\n",
       "      <td>16.581684</td>\n",
       "      <td>0.806154</td>\n",
       "      <td>-2.109095</td>\n",
       "      <td>0.005157</td>\n",
       "      <td>2.257918</td>\n",
       "    </tr>\n",
       "    <tr>\n",
       "      <th>1667</th>\n",
       "      <td>16.591635</td>\n",
       "      <td>0.579404</td>\n",
       "      <td>-2.096657</td>\n",
       "      <td>-0.091503</td>\n",
       "      <td>2.177166</td>\n",
       "    </tr>\n",
       "    <tr>\n",
       "      <th>1668</th>\n",
       "      <td>16.601586</td>\n",
       "      <td>0.498769</td>\n",
       "      <td>-2.080130</td>\n",
       "      <td>-0.639719</td>\n",
       "      <td>2.232701</td>\n",
       "    </tr>\n",
       "  </tbody>\n",
       "</table>\n",
       "<p>1669 rows × 5 columns</p>\n",
       "</div>"
      ],
      "text/plain": [
       "           time     acc_x     acc_y     acc_z   abs_acc\n",
       "0      0.003109 -0.324983  0.969946 -0.730077  1.256750\n",
       "1      0.013060 -0.249482  1.201871 -0.092081  1.230940\n",
       "2      0.023011 -0.473437  1.047375 -0.016284  1.149522\n",
       "3      0.032961 -0.559688  1.009391 -0.671176  1.335139\n",
       "4      0.042913 -0.582195  1.142839 -0.816608  1.520487\n",
       "...         ...       ...       ...       ...       ...\n",
       "1664  16.561781  1.248954 -1.932569 -0.004089  2.301027\n",
       "1665  16.571733  1.178915 -2.002361  0.030478  2.323837\n",
       "1666  16.581684  0.806154 -2.109095  0.005157  2.257918\n",
       "1667  16.591635  0.579404 -2.096657 -0.091503  2.177166\n",
       "1668  16.601586  0.498769 -2.080130 -0.639719  2.232701\n",
       "\n",
       "[1669 rows x 5 columns]"
      ]
     },
     "execution_count": 33,
     "metadata": {},
     "output_type": "execute_result"
    }
   ],
   "source": [
    "data_running"
   ]
  },
  {
   "cell_type": "code",
   "execution_count": 40,
   "id": "79a45838-2a1e-48d1-9a19-a0d9ce8f3272",
   "metadata": {},
   "outputs": [],
   "source": [
    "# Change Index\n",
    "data_running.index = np.arange(50,len(data_running)+50)\n",
    "# data_running.index = np.arange(50,100,len(data_running)) <-- ändert den Index auch"
   ]
  },
  {
   "cell_type": "code",
   "execution_count": 41,
   "id": "4f9f3b33-b2bd-44c2-a255-96ea93f60577",
   "metadata": {},
   "outputs": [
    {
     "data": {
      "text/html": [
       "<div>\n",
       "<style scoped>\n",
       "    .dataframe tbody tr th:only-of-type {\n",
       "        vertical-align: middle;\n",
       "    }\n",
       "\n",
       "    .dataframe tbody tr th {\n",
       "        vertical-align: top;\n",
       "    }\n",
       "\n",
       "    .dataframe thead th {\n",
       "        text-align: right;\n",
       "    }\n",
       "</style>\n",
       "<table border=\"1\" class=\"dataframe\">\n",
       "  <thead>\n",
       "    <tr style=\"text-align: right;\">\n",
       "      <th></th>\n",
       "      <th>time</th>\n",
       "      <th>acc_x</th>\n",
       "      <th>acc_y</th>\n",
       "      <th>acc_z</th>\n",
       "      <th>abs_acc</th>\n",
       "    </tr>\n",
       "  </thead>\n",
       "  <tbody>\n",
       "    <tr>\n",
       "      <th>50</th>\n",
       "      <td>0.003109</td>\n",
       "      <td>-0.324983</td>\n",
       "      <td>0.969946</td>\n",
       "      <td>-0.730077</td>\n",
       "      <td>1.256750</td>\n",
       "    </tr>\n",
       "    <tr>\n",
       "      <th>51</th>\n",
       "      <td>0.013060</td>\n",
       "      <td>-0.249482</td>\n",
       "      <td>1.201871</td>\n",
       "      <td>-0.092081</td>\n",
       "      <td>1.230940</td>\n",
       "    </tr>\n",
       "    <tr>\n",
       "      <th>52</th>\n",
       "      <td>0.023011</td>\n",
       "      <td>-0.473437</td>\n",
       "      <td>1.047375</td>\n",
       "      <td>-0.016284</td>\n",
       "      <td>1.149522</td>\n",
       "    </tr>\n",
       "    <tr>\n",
       "      <th>53</th>\n",
       "      <td>0.032961</td>\n",
       "      <td>-0.559688</td>\n",
       "      <td>1.009391</td>\n",
       "      <td>-0.671176</td>\n",
       "      <td>1.335139</td>\n",
       "    </tr>\n",
       "    <tr>\n",
       "      <th>54</th>\n",
       "      <td>0.042913</td>\n",
       "      <td>-0.582195</td>\n",
       "      <td>1.142839</td>\n",
       "      <td>-0.816608</td>\n",
       "      <td>1.520487</td>\n",
       "    </tr>\n",
       "    <tr>\n",
       "      <th>...</th>\n",
       "      <td>...</td>\n",
       "      <td>...</td>\n",
       "      <td>...</td>\n",
       "      <td>...</td>\n",
       "      <td>...</td>\n",
       "    </tr>\n",
       "    <tr>\n",
       "      <th>1714</th>\n",
       "      <td>16.561781</td>\n",
       "      <td>1.248954</td>\n",
       "      <td>-1.932569</td>\n",
       "      <td>-0.004089</td>\n",
       "      <td>2.301027</td>\n",
       "    </tr>\n",
       "    <tr>\n",
       "      <th>1715</th>\n",
       "      <td>16.571733</td>\n",
       "      <td>1.178915</td>\n",
       "      <td>-2.002361</td>\n",
       "      <td>0.030478</td>\n",
       "      <td>2.323837</td>\n",
       "    </tr>\n",
       "    <tr>\n",
       "      <th>1716</th>\n",
       "      <td>16.581684</td>\n",
       "      <td>0.806154</td>\n",
       "      <td>-2.109095</td>\n",
       "      <td>0.005157</td>\n",
       "      <td>2.257918</td>\n",
       "    </tr>\n",
       "    <tr>\n",
       "      <th>1717</th>\n",
       "      <td>16.591635</td>\n",
       "      <td>0.579404</td>\n",
       "      <td>-2.096657</td>\n",
       "      <td>-0.091503</td>\n",
       "      <td>2.177166</td>\n",
       "    </tr>\n",
       "    <tr>\n",
       "      <th>1718</th>\n",
       "      <td>16.601586</td>\n",
       "      <td>0.498769</td>\n",
       "      <td>-2.080130</td>\n",
       "      <td>-0.639719</td>\n",
       "      <td>2.232701</td>\n",
       "    </tr>\n",
       "  </tbody>\n",
       "</table>\n",
       "<p>1669 rows × 5 columns</p>\n",
       "</div>"
      ],
      "text/plain": [
       "           time     acc_x     acc_y     acc_z   abs_acc\n",
       "50     0.003109 -0.324983  0.969946 -0.730077  1.256750\n",
       "51     0.013060 -0.249482  1.201871 -0.092081  1.230940\n",
       "52     0.023011 -0.473437  1.047375 -0.016284  1.149522\n",
       "53     0.032961 -0.559688  1.009391 -0.671176  1.335139\n",
       "54     0.042913 -0.582195  1.142839 -0.816608  1.520487\n",
       "...         ...       ...       ...       ...       ...\n",
       "1714  16.561781  1.248954 -1.932569 -0.004089  2.301027\n",
       "1715  16.571733  1.178915 -2.002361  0.030478  2.323837\n",
       "1716  16.581684  0.806154 -2.109095  0.005157  2.257918\n",
       "1717  16.591635  0.579404 -2.096657 -0.091503  2.177166\n",
       "1718  16.601586  0.498769 -2.080130 -0.639719  2.232701\n",
       "\n",
       "[1669 rows x 5 columns]"
      ]
     },
     "execution_count": 41,
     "metadata": {},
     "output_type": "execute_result"
    }
   ],
   "source": [
    "data_running"
   ]
  },
  {
   "cell_type": "code",
   "execution_count": 52,
   "id": "fde6880e-963d-406f-a5ea-bc35127afa4d",
   "metadata": {},
   "outputs": [
    {
     "data": {
      "text/plain": [
       "50    0.969946\n",
       "51    1.201871\n",
       "52    1.047375\n",
       "Name: acc_y, dtype: float64"
      ]
     },
     "execution_count": 52,
     "metadata": {},
     "output_type": "execute_result"
    }
   ],
   "source": [
    "# Search pd by table location (not index)\n",
    "data_running.iloc[0:3, 2]"
   ]
  },
  {
   "cell_type": "code",
   "execution_count": 50,
   "id": "4d7d5997-56e2-4334-9884-a930078cde92",
   "metadata": {},
   "outputs": [
    {
     "data": {
      "text/html": [
       "<div>\n",
       "<style scoped>\n",
       "    .dataframe tbody tr th:only-of-type {\n",
       "        vertical-align: middle;\n",
       "    }\n",
       "\n",
       "    .dataframe tbody tr th {\n",
       "        vertical-align: top;\n",
       "    }\n",
       "\n",
       "    .dataframe thead th {\n",
       "        text-align: right;\n",
       "    }\n",
       "</style>\n",
       "<table border=\"1\" class=\"dataframe\">\n",
       "  <thead>\n",
       "    <tr style=\"text-align: right;\">\n",
       "      <th></th>\n",
       "      <th>acc_y</th>\n",
       "    </tr>\n",
       "  </thead>\n",
       "  <tbody>\n",
       "    <tr>\n",
       "      <th>50</th>\n",
       "      <td>0.969946</td>\n",
       "    </tr>\n",
       "    <tr>\n",
       "      <th>51</th>\n",
       "      <td>1.201871</td>\n",
       "    </tr>\n",
       "    <tr>\n",
       "      <th>52</th>\n",
       "      <td>1.047375</td>\n",
       "    </tr>\n",
       "  </tbody>\n",
       "</table>\n",
       "</div>"
      ],
      "text/plain": [
       "       acc_y\n",
       "50  0.969946\n",
       "51  1.201871\n",
       "52  1.047375"
      ]
     },
     "execution_count": 50,
     "metadata": {},
     "output_type": "execute_result"
    }
   ],
   "source": [
    "# Search pd by table location (not index)\n",
    "data_running.iloc[0:3, [2]] # Gibt ein Dataframe aus (1-dimensionales Objekt)"
   ]
  },
  {
   "cell_type": "code",
   "execution_count": 51,
   "id": "13db3dcb-a086-473b-baf8-747d74ef245b",
   "metadata": {},
   "outputs": [
    {
     "data": {
      "text/html": [
       "<div>\n",
       "<style scoped>\n",
       "    .dataframe tbody tr th:only-of-type {\n",
       "        vertical-align: middle;\n",
       "    }\n",
       "\n",
       "    .dataframe tbody tr th {\n",
       "        vertical-align: top;\n",
       "    }\n",
       "\n",
       "    .dataframe thead th {\n",
       "        text-align: right;\n",
       "    }\n",
       "</style>\n",
       "<table border=\"1\" class=\"dataframe\">\n",
       "  <thead>\n",
       "    <tr style=\"text-align: right;\">\n",
       "      <th></th>\n",
       "      <th>acc_y</th>\n",
       "    </tr>\n",
       "  </thead>\n",
       "  <tbody>\n",
       "    <tr>\n",
       "      <th>50</th>\n",
       "      <td>0.969946</td>\n",
       "    </tr>\n",
       "    <tr>\n",
       "      <th>51</th>\n",
       "      <td>1.201871</td>\n",
       "    </tr>\n",
       "    <tr>\n",
       "      <th>52</th>\n",
       "      <td>1.047375</td>\n",
       "    </tr>\n",
       "  </tbody>\n",
       "</table>\n",
       "</div>"
      ],
      "text/plain": [
       "       acc_y\n",
       "50  0.969946\n",
       "51  1.201871\n",
       "52  1.047375"
      ]
     },
     "execution_count": 51,
     "metadata": {},
     "output_type": "execute_result"
    }
   ],
   "source": [
    "# Search pd by table location (not index)\n",
    "data_running.iloc[0:3, 2:3] # Gibt ein Dataframe aus (1-dimensionales Objekt)"
   ]
  },
  {
   "cell_type": "code",
   "execution_count": 55,
   "id": "83734a2f-ce9d-43f9-b607-f2d5ba42cb37",
   "metadata": {},
   "outputs": [
    {
     "data": {
      "text/plain": [
       "1.047374902"
      ]
     },
     "execution_count": 55,
     "metadata": {},
     "output_type": "execute_result"
    }
   ],
   "source": [
    "# Nur ein Value\n",
    "data_running.loc[52, 'acc_y']"
   ]
  },
  {
   "cell_type": "code",
   "execution_count": 56,
   "id": "9a886f19-0227-4ded-9c76-ec60b8adca7c",
   "metadata": {},
   "outputs": [
    {
     "data": {
      "text/html": [
       "<div>\n",
       "<style scoped>\n",
       "    .dataframe tbody tr th:only-of-type {\n",
       "        vertical-align: middle;\n",
       "    }\n",
       "\n",
       "    .dataframe tbody tr th {\n",
       "        vertical-align: top;\n",
       "    }\n",
       "\n",
       "    .dataframe thead th {\n",
       "        text-align: right;\n",
       "    }\n",
       "</style>\n",
       "<table border=\"1\" class=\"dataframe\">\n",
       "  <thead>\n",
       "    <tr style=\"text-align: right;\">\n",
       "      <th></th>\n",
       "      <th>acc_x</th>\n",
       "      <th>acc_y</th>\n",
       "    </tr>\n",
       "  </thead>\n",
       "  <tbody>\n",
       "    <tr>\n",
       "      <th>52</th>\n",
       "      <td>-0.473437</td>\n",
       "      <td>1.047375</td>\n",
       "    </tr>\n",
       "    <tr>\n",
       "      <th>60</th>\n",
       "      <td>-0.403642</td>\n",
       "      <td>0.857789</td>\n",
       "    </tr>\n",
       "  </tbody>\n",
       "</table>\n",
       "</div>"
      ],
      "text/plain": [
       "       acc_x     acc_y\n",
       "52 -0.473437  1.047375\n",
       "60 -0.403642  0.857789"
      ]
     },
     "execution_count": 56,
     "metadata": {},
     "output_type": "execute_result"
    }
   ],
   "source": [
    "# Mehrere Values\n",
    "data_running.loc[[52,60], ['acc_x','acc_y']]"
   ]
  },
  {
   "cell_type": "code",
   "execution_count": null,
   "id": "ca425471-02f7-48c1-b975-c8769ad9a0a0",
   "metadata": {},
   "outputs": [],
   "source": []
  }
 ],
 "metadata": {
  "kernelspec": {
   "display_name": "Python 3 (ipykernel)",
   "language": "python",
   "name": "python3"
  },
  "language_info": {
   "codemirror_mode": {
    "name": "ipython",
    "version": 3
   },
   "file_extension": ".py",
   "mimetype": "text/x-python",
   "name": "python",
   "nbconvert_exporter": "python",
   "pygments_lexer": "ipython3",
   "version": "3.9.18"
  }
 },
 "nbformat": 4,
 "nbformat_minor": 5
}
